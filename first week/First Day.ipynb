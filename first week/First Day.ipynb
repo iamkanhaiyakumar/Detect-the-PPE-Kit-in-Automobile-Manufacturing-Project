{
 "cells": [
  {
   "cell_type": "markdown",
   "id": "c89cbac7-2539-4ebe-ab59-8749c7d32997",
   "metadata": {},
   "source": [
    "## Introduction About GITHUB"
   ]
  },
  {
   "cell_type": "markdown",
   "id": "4db15a05-773e-4848-95ce-6d5fd5d120de",
   "metadata": {},
   "source": [
    "## What is Git :-"
   ]
  },
  {
   "cell_type": "markdown",
   "id": "08218e88-85fb-49ed-81cd-47628dd5b273",
   "metadata": {},
   "source": [
    "1. Git is a version control system.\n",
    "2. Git helps you keep track of code changes.\n",
    "3. Git is used to collaborate on code.\n",
    "4. Git and GitHub are different things."
   ]
  },
  {
   "cell_type": "markdown",
   "id": "323e9fc2-480f-4def-91f7-13d3f735f42a",
   "metadata": {},
   "source": [
    "## Why Git :-"
   ]
  },
  {
   "cell_type": "raw",
   "id": "ba7837de-4037-4a73-abfd-6418d9b54e92",
   "metadata": {},
   "source": [
    "1. Over 70% of developers use Git!\n",
    "2. Developers can work together from anywhere in the world.\n",
    "3. Developers can see the full history of the project.\n",
    "4. Developers can revert to earlier versions of a project."
   ]
  },
  {
   "cell_type": "markdown",
   "id": "b8a08a55-3bc4-4206-beac-38e6f646a754",
   "metadata": {},
   "source": [
    "## Features of Git :-"
   ]
  },
  {
   "cell_type": "raw",
   "id": "7335f59b-efe7-4f5b-be06-fb0ad82d41ef",
   "metadata": {},
   "source": [
    "• When a file is changed, added or deleted, it is considered modified\n",
    "• You select the modified files you want to Stage\n",
    "• The Staged files are Committed, which prompts Git to store a permanent snapshot of the files\n",
    "• Git allows you to see the full history of every commit.\n",
    "• You can revert back to any previous commit.\n",
    "• Git does not store a separate copy of every file in every commit, but keeps track of changes made in each commit!"
   ]
  },
  {
   "cell_type": "markdown",
   "id": "cf4f18cb-a13f-469a-a52c-eb8231f272fe",
   "metadata": {},
   "source": [
    "## What is GitHub :-"
   ]
  },
  {
   "cell_type": "raw",
   "id": "482704d0-b43a-4732-87a6-53cb7df1c5dc",
   "metadata": {},
   "source": [
    "• Git is not the same as GitHub.\n",
    "• GitHub makes tools that use Git.\n",
    "• GitHub is the largest host of source code in the world, and has been owned by Microsoft since 2018."
   ]
  },
  {
   "cell_type": "markdown",
   "id": "8c33299e-413f-452e-b8e8-125d5e103955",
   "metadata": {},
   "source": [
    "## Here are some of the most commonly used Git commands:"
   ]
  },
  {
   "cell_type": "raw",
   "id": "c6f7a3ef-9b3f-467b-835b-8ac36d82b8a3",
   "metadata": {},
   "source": [
    "git init - Initialize a new Git repository.\n",
    "\n",
    "git clone <repository-url> - Clone an existing repository to your local machine.\n",
    "\n",
    "git add <file> or git add . - Stage specific files or all changes for the next commit.\n",
    "\n",
    "git commit -m \"message\" - Commit staged changes with a message.\n",
    "\n",
    "git status - Check the status of your files (untracked, modified, staged).\n",
    "\n",
    "git push - Push commits from your local branch to a remote repository.\n",
    "\n",
    "git pull - Fetch and integrate changes from a remote repository into your current branch.\n",
    "\n",
    "git log - View commit history for the repository.\n",
    "\n",
    "git branch - List branches in your repository.\n",
    "\n",
    "git checkout <branch-name> - Switch to a different branch.\n",
    "\n",
    "git checkout -b <branch-name> - Create and switch to a new branch.\n",
    "\n",
    "git merge <branch-name> - Merge changes from the specified branch into the current branch.\n",
    "\n",
    "git remote -v - Show URLs of all remotes.\n",
    "\n",
    "git reset <file> - Unstage a file, keeping changes in the working directory.\n",
    "\n",
    "git stash - Temporarily save changes in the working directory without committing.\n",
    "\n",
    "git stash pop - Apply the most recent stash and remove it from the stash list.\n",
    "\n",
    "git rebase <branch-name> - Reapply commits from the current branch onto another branch.\n",
    "\n",
    "git config --global user.name \"name\" - Set your Git username globally.\n",
    "\n",
    "git config --global user.email \"email\" - Set your Git email globally.\n"
   ]
  },
  {
   "cell_type": "code",
   "execution_count": null,
   "id": "e06320ee-7153-449c-b630-1094b55f096c",
   "metadata": {},
   "outputs": [],
   "source": []
  }
 ],
 "metadata": {
  "kernelspec": {
   "display_name": "Python 3 (ipykernel)",
   "language": "python",
   "name": "python3"
  },
  "language_info": {
   "codemirror_mode": {
    "name": "ipython",
    "version": 3
   },
   "file_extension": ".py",
   "mimetype": "text/x-python",
   "name": "python",
   "nbconvert_exporter": "python",
   "pygments_lexer": "ipython3",
   "version": "3.12.7"
  }
 },
 "nbformat": 4,
 "nbformat_minor": 5
}
