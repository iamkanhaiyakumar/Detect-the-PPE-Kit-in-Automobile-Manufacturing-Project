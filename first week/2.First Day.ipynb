{
 "cells": [
  {
   "cell_type": "markdown",
   "id": "c89cbac7-2539-4ebe-ab59-8749c7d32997",
   "metadata": {},
   "source": [
    "## Introduction About GITHUB"
   ]
  },
  {
   "cell_type": "markdown",
   "id": "4db15a05-773e-4848-95ce-6d5fd5d120de",
   "metadata": {},
   "source": [
    "## What is Git :-"
   ]
  },
  {
   "cell_type": "markdown",
   "id": "08218e88-85fb-49ed-81cd-47628dd5b273",
   "metadata": {},
   "source": [
    "1. Git is a version control system.\n",
    "2. Git helps you keep track of code changes.\n",
    "3. Git is used to collaborate on code.\n",
    "4. Git and GitHub are different things."
   ]
  },
  {
   "cell_type": "markdown",
   "id": "323e9fc2-480f-4def-91f7-13d3f735f42a",
   "metadata": {},
   "source": [
    "## Why Git :-"
   ]
  },
  {
   "cell_type": "raw",
   "id": "ba7837de-4037-4a73-abfd-6418d9b54e92",
   "metadata": {},
   "source": [
    "1. Over 70% of developers use Git!\n",
    "2. Developers can work together from anywhere in the world.\n",
    "3. Developers can see the full history of the project.\n",
    "4. Developers can revert to earlier versions of a project."
   ]
  },
  {
   "cell_type": "markdown",
   "id": "b8a08a55-3bc4-4206-beac-38e6f646a754",
   "metadata": {},
   "source": [
    "## Features of Git :-"
   ]
  },
  {
   "cell_type": "raw",
   "id": "7335f59b-efe7-4f5b-be06-fb0ad82d41ef",
   "metadata": {},
   "source": [
    "• When a file is changed, added or deleted, it is considered modified\n",
    "• You select the modified files you want to Stage\n",
    "• The Staged files are Committed, which prompts Git to store a permanent snapshot of the files\n",
    "• Git allows you to see the full history of every commit.\n",
    "• You can revert back to any previous commit.\n",
    "• Git does not store a separate copy of every file in every commit, but keeps track of changes made in each commit!"
   ]
  },
  {
   "cell_type": "markdown",
   "id": "cf4f18cb-a13f-469a-a52c-eb8231f272fe",
   "metadata": {},
   "source": [
    "## What is GitHub :-"
   ]
  },
  {
   "cell_type": "raw",
   "id": "482704d0-b43a-4732-87a6-53cb7df1c5dc",
   "metadata": {},
   "source": [
    "• Git is not the same as GitHub.\n",
    "• GitHub makes tools that use Git.\n",
    "• GitHub is the largest host of source code in the world, and has been owned by Microsoft since 2018."
   ]
  },
  {
   "cell_type": "markdown",
   "id": "8c33299e-413f-452e-b8e8-125d5e103955",
   "metadata": {},
   "source": [
    "## Here are some of the most commonly used Git commands:"
   ]
  },
  {
   "cell_type": "raw",
   "id": "c6f7a3ef-9b3f-467b-835b-8ac36d82b8a3",
   "metadata": {},
   "source": [
    "git init - Initialize a new Git repository.\n",
    "\n",
    "git clone <repository-url> - Clone an existing repository to your local machine.\n",
    "\n",
    "git add <file> or git add . - Stage specific files or all changes for the next commit.\n",
    "\n",
    "git commit -m \"message\" - Commit staged changes with a message.\n",
    "\n",
    "git status - Check the status of your files (untracked, modified, staged).\n",
    "\n",
    "git push - Push commits from your local branch to a remote repository.\n",
    "\n",
    "git pull - Fetch and integrate changes from a remote repository into your current branch.\n",
    "\n",
    "git log - View commit history for the repository.\n",
    "\n",
    "git branch - List branches in your repository.\n",
    "\n",
    "git checkout <branch-name> - Switch to a different branch.\n",
    "\n",
    "git checkout -b <branch-name> - Create and switch to a new branch.\n",
    "\n",
    "git merge <branch-name> - Merge changes from the specified branch into the current branch.\n",
    "\n",
    "git remote -v - Show URLs of all remotes.\n",
    "\n",
    "git reset <file> - Unstage a file, keeping changes in the working directory.\n",
    "\n",
    "git stash - Temporarily save changes in the working directory without committing.\n",
    "\n",
    "git stash pop - Apply the most recent stash and remove it from the stash list.\n",
    "\n",
    "git rebase <branch-name> - Reapply commits from the current branch onto another branch.\n",
    "\n",
    "git config --global user.name \"name\" - Set your Git username globally.\n",
    "\n",
    "git config --global user.email \"email\" - Set your Git email globally.\n"
   ]
  },
  {
   "cell_type": "markdown",
   "id": "29cc4655-521a-434e-93bc-f4942cfa9f16",
   "metadata": {},
   "source": [
    " ## Libraries that are likely essential"
   ]
  },
  {
   "cell_type": "code",
   "execution_count": 1,
   "id": "e90d8450-cac3-4836-a0b3-28c8ad4b2da5",
   "metadata": {},
   "outputs": [
    {
     "name": "stdout",
     "output_type": "stream",
     "text": [
      "Requirement already satisfied: tensorflow in c:\\users\\kanha\\appdata\\local\\programs\\python\\python312\\lib\\site-packages (2.18.0)\n",
      "Requirement already satisfied: tensorflow-intel==2.18.0 in c:\\users\\kanha\\appdata\\local\\programs\\python\\python312\\lib\\site-packages (from tensorflow) (2.18.0)\n",
      "Requirement already satisfied: absl-py>=1.0.0 in c:\\users\\kanha\\appdata\\local\\programs\\python\\python312\\lib\\site-packages (from tensorflow-intel==2.18.0->tensorflow) (2.1.0)\n",
      "Requirement already satisfied: astunparse>=1.6.0 in c:\\users\\kanha\\appdata\\local\\programs\\python\\python312\\lib\\site-packages (from tensorflow-intel==2.18.0->tensorflow) (1.6.3)\n",
      "Requirement already satisfied: flatbuffers>=24.3.25 in c:\\users\\kanha\\appdata\\local\\programs\\python\\python312\\lib\\site-packages (from tensorflow-intel==2.18.0->tensorflow) (24.3.25)\n",
      "Requirement already satisfied: gast!=0.5.0,!=0.5.1,!=0.5.2,>=0.2.1 in c:\\users\\kanha\\appdata\\local\\programs\\python\\python312\\lib\\site-packages (from tensorflow-intel==2.18.0->tensorflow) (0.6.0)\n",
      "Requirement already satisfied: google-pasta>=0.1.1 in c:\\users\\kanha\\appdata\\local\\programs\\python\\python312\\lib\\site-packages (from tensorflow-intel==2.18.0->tensorflow) (0.2.0)\n",
      "Requirement already satisfied: libclang>=13.0.0 in c:\\users\\kanha\\appdata\\local\\programs\\python\\python312\\lib\\site-packages (from tensorflow-intel==2.18.0->tensorflow) (18.1.1)\n",
      "Requirement already satisfied: opt-einsum>=2.3.2 in c:\\users\\kanha\\appdata\\local\\programs\\python\\python312\\lib\\site-packages (from tensorflow-intel==2.18.0->tensorflow) (3.4.0)\n",
      "Requirement already satisfied: packaging in c:\\users\\kanha\\appdata\\local\\programs\\python\\python312\\lib\\site-packages (from tensorflow-intel==2.18.0->tensorflow) (24.1)\n",
      "Requirement already satisfied: protobuf!=4.21.0,!=4.21.1,!=4.21.2,!=4.21.3,!=4.21.4,!=4.21.5,<6.0.0dev,>=3.20.3 in c:\\users\\kanha\\appdata\\local\\programs\\python\\python312\\lib\\site-packages (from tensorflow-intel==2.18.0->tensorflow) (4.25.5)\n",
      "Requirement already satisfied: requests<3,>=2.21.0 in c:\\users\\kanha\\appdata\\local\\programs\\python\\python312\\lib\\site-packages (from tensorflow-intel==2.18.0->tensorflow) (2.32.3)\n",
      "Requirement already satisfied: setuptools in c:\\users\\kanha\\appdata\\local\\programs\\python\\python312\\lib\\site-packages (from tensorflow-intel==2.18.0->tensorflow) (75.1.0)\n",
      "Requirement already satisfied: six>=1.12.0 in c:\\users\\kanha\\appdata\\local\\programs\\python\\python312\\lib\\site-packages (from tensorflow-intel==2.18.0->tensorflow) (1.16.0)\n",
      "Requirement already satisfied: termcolor>=1.1.0 in c:\\users\\kanha\\appdata\\local\\programs\\python\\python312\\lib\\site-packages (from tensorflow-intel==2.18.0->tensorflow) (2.5.0)\n",
      "Requirement already satisfied: typing-extensions>=3.6.6 in c:\\users\\kanha\\appdata\\local\\programs\\python\\python312\\lib\\site-packages (from tensorflow-intel==2.18.0->tensorflow) (4.12.2)\n",
      "Requirement already satisfied: wrapt>=1.11.0 in c:\\users\\kanha\\appdata\\local\\programs\\python\\python312\\lib\\site-packages (from tensorflow-intel==2.18.0->tensorflow) (1.16.0)\n",
      "Requirement already satisfied: grpcio<2.0,>=1.24.3 in c:\\users\\kanha\\appdata\\local\\programs\\python\\python312\\lib\\site-packages (from tensorflow-intel==2.18.0->tensorflow) (1.66.2)\n",
      "Requirement already satisfied: tensorboard<2.19,>=2.18 in c:\\users\\kanha\\appdata\\local\\programs\\python\\python312\\lib\\site-packages (from tensorflow-intel==2.18.0->tensorflow) (2.18.0)\n",
      "Requirement already satisfied: keras>=3.5.0 in c:\\users\\kanha\\appdata\\local\\programs\\python\\python312\\lib\\site-packages (from tensorflow-intel==2.18.0->tensorflow) (3.6.0)\n",
      "Requirement already satisfied: numpy<2.1.0,>=1.26.0 in c:\\users\\kanha\\appdata\\local\\programs\\python\\python312\\lib\\site-packages (from tensorflow-intel==2.18.0->tensorflow) (1.26.4)\n",
      "Requirement already satisfied: h5py>=3.11.0 in c:\\users\\kanha\\appdata\\local\\programs\\python\\python312\\lib\\site-packages (from tensorflow-intel==2.18.0->tensorflow) (3.12.1)\n",
      "Requirement already satisfied: ml-dtypes<0.5.0,>=0.4.0 in c:\\users\\kanha\\appdata\\local\\programs\\python\\python312\\lib\\site-packages (from tensorflow-intel==2.18.0->tensorflow) (0.4.1)\n",
      "Requirement already satisfied: wheel<1.0,>=0.23.0 in c:\\users\\kanha\\appdata\\local\\programs\\python\\python312\\lib\\site-packages (from astunparse>=1.6.0->tensorflow-intel==2.18.0->tensorflow) (0.44.0)\n",
      "Requirement already satisfied: rich in c:\\users\\kanha\\appdata\\local\\programs\\python\\python312\\lib\\site-packages (from keras>=3.5.0->tensorflow-intel==2.18.0->tensorflow) (13.9.2)\n",
      "Requirement already satisfied: namex in c:\\users\\kanha\\appdata\\local\\programs\\python\\python312\\lib\\site-packages (from keras>=3.5.0->tensorflow-intel==2.18.0->tensorflow) (0.0.8)\n",
      "Requirement already satisfied: optree in c:\\users\\kanha\\appdata\\local\\programs\\python\\python312\\lib\\site-packages (from keras>=3.5.0->tensorflow-intel==2.18.0->tensorflow) (0.13.0)\n",
      "Requirement already satisfied: charset-normalizer<4,>=2 in c:\\users\\kanha\\appdata\\local\\programs\\python\\python312\\lib\\site-packages (from requests<3,>=2.21.0->tensorflow-intel==2.18.0->tensorflow) (3.4.0)\n",
      "Requirement already satisfied: idna<4,>=2.5 in c:\\users\\kanha\\appdata\\local\\programs\\python\\python312\\lib\\site-packages (from requests<3,>=2.21.0->tensorflow-intel==2.18.0->tensorflow) (3.10)\n",
      "Requirement already satisfied: urllib3<3,>=1.21.1 in c:\\users\\kanha\\appdata\\local\\programs\\python\\python312\\lib\\site-packages (from requests<3,>=2.21.0->tensorflow-intel==2.18.0->tensorflow) (2.2.3)\n",
      "Requirement already satisfied: certifi>=2017.4.17 in c:\\users\\kanha\\appdata\\local\\programs\\python\\python312\\lib\\site-packages (from requests<3,>=2.21.0->tensorflow-intel==2.18.0->tensorflow) (2024.8.30)\n",
      "Requirement already satisfied: markdown>=2.6.8 in c:\\users\\kanha\\appdata\\local\\programs\\python\\python312\\lib\\site-packages (from tensorboard<2.19,>=2.18->tensorflow-intel==2.18.0->tensorflow) (3.7)\n",
      "Requirement already satisfied: tensorboard-data-server<0.8.0,>=0.7.0 in c:\\users\\kanha\\appdata\\local\\programs\\python\\python312\\lib\\site-packages (from tensorboard<2.19,>=2.18->tensorflow-intel==2.18.0->tensorflow) (0.7.2)\n",
      "Requirement already satisfied: werkzeug>=1.0.1 in c:\\users\\kanha\\appdata\\local\\programs\\python\\python312\\lib\\site-packages (from tensorboard<2.19,>=2.18->tensorflow-intel==2.18.0->tensorflow) (3.0.4)\n",
      "Requirement already satisfied: MarkupSafe>=2.1.1 in c:\\users\\kanha\\appdata\\local\\programs\\python\\python312\\lib\\site-packages (from werkzeug>=1.0.1->tensorboard<2.19,>=2.18->tensorflow-intel==2.18.0->tensorflow) (3.0.1)\n",
      "Requirement already satisfied: markdown-it-py>=2.2.0 in c:\\users\\kanha\\appdata\\local\\programs\\python\\python312\\lib\\site-packages (from rich->keras>=3.5.0->tensorflow-intel==2.18.0->tensorflow) (3.0.0)\n",
      "Requirement already satisfied: pygments<3.0.0,>=2.13.0 in c:\\users\\kanha\\appdata\\local\\programs\\python\\python312\\lib\\site-packages (from rich->keras>=3.5.0->tensorflow-intel==2.18.0->tensorflow) (2.18.0)\n",
      "Requirement already satisfied: mdurl~=0.1 in c:\\users\\kanha\\appdata\\local\\programs\\python\\python312\\lib\\site-packages (from markdown-it-py>=2.2.0->rich->keras>=3.5.0->tensorflow-intel==2.18.0->tensorflow) (0.1.2)\n"
     ]
    }
   ],
   "source": [
    "!pip install tensorflow"
   ]
  },
  {
   "cell_type": "code",
   "execution_count": 2,
   "id": "a7e7ba46-fb70-4107-8ec7-c2eef4162864",
   "metadata": {},
   "outputs": [
    {
     "name": "stdout",
     "output_type": "stream",
     "text": [
      "Requirement already satisfied: opencv-python in c:\\users\\kanha\\appdata\\local\\programs\\python\\python312\\lib\\site-packages (4.10.0.84)\n",
      "Requirement already satisfied: numpy>=1.21.2 in c:\\users\\kanha\\appdata\\local\\programs\\python\\python312\\lib\\site-packages (from opencv-python) (1.26.4)\n",
      "Note: you may need to restart the kernel to use updated packages.\n"
     ]
    }
   ],
   "source": [
    "pip install opencv-python"
   ]
  },
  {
   "cell_type": "code",
   "execution_count": 3,
   "id": "f7a496ca-0e71-4779-9745-776200c3e629",
   "metadata": {},
   "outputs": [
    {
     "name": "stdout",
     "output_type": "stream",
     "text": [
      "Requirement already satisfied: numpy in c:\\users\\kanha\\appdata\\local\\programs\\python\\python312\\lib\\site-packages (1.26.4)\n",
      "Note: you may need to restart the kernel to use updated packages.\n"
     ]
    }
   ],
   "source": [
    "pip install numpy"
   ]
  },
  {
   "cell_type": "code",
   "execution_count": 4,
   "id": "01a5cacf-d0e7-4174-854b-c0e21b796965",
   "metadata": {},
   "outputs": [
    {
     "name": "stdout",
     "output_type": "stream",
     "text": [
      "Requirement already satisfied: matplotlib in c:\\users\\kanha\\appdata\\local\\programs\\python\\python312\\lib\\site-packages (3.9.2)\n",
      "Requirement already satisfied: contourpy>=1.0.1 in c:\\users\\kanha\\appdata\\local\\programs\\python\\python312\\lib\\site-packages (from matplotlib) (1.3.0)\n",
      "Requirement already satisfied: cycler>=0.10 in c:\\users\\kanha\\appdata\\local\\programs\\python\\python312\\lib\\site-packages (from matplotlib) (0.12.1)\n",
      "Requirement already satisfied: fonttools>=4.22.0 in c:\\users\\kanha\\appdata\\local\\programs\\python\\python312\\lib\\site-packages (from matplotlib) (4.54.1)\n",
      "Requirement already satisfied: kiwisolver>=1.3.1 in c:\\users\\kanha\\appdata\\local\\programs\\python\\python312\\lib\\site-packages (from matplotlib) (1.4.7)\n",
      "Requirement already satisfied: numpy>=1.23 in c:\\users\\kanha\\appdata\\local\\programs\\python\\python312\\lib\\site-packages (from matplotlib) (1.26.4)\n",
      "Requirement already satisfied: packaging>=20.0 in c:\\users\\kanha\\appdata\\local\\programs\\python\\python312\\lib\\site-packages (from matplotlib) (24.1)\n",
      "Requirement already satisfied: pillow>=8 in c:\\users\\kanha\\appdata\\local\\programs\\python\\python312\\lib\\site-packages (from matplotlib) (10.4.0)\n",
      "Requirement already satisfied: pyparsing>=2.3.1 in c:\\users\\kanha\\appdata\\local\\programs\\python\\python312\\lib\\site-packages (from matplotlib) (3.2.0)\n",
      "Requirement already satisfied: python-dateutil>=2.7 in c:\\users\\kanha\\appdata\\local\\programs\\python\\python312\\lib\\site-packages (from matplotlib) (2.9.0.post0)\n",
      "Requirement already satisfied: six>=1.5 in c:\\users\\kanha\\appdata\\local\\programs\\python\\python312\\lib\\site-packages (from python-dateutil>=2.7->matplotlib) (1.16.0)\n",
      "Note: you may need to restart the kernel to use updated packages.\n"
     ]
    }
   ],
   "source": [
    "pip install matplotlib"
   ]
  },
  {
   "cell_type": "code",
   "execution_count": 5,
   "id": "4368b434-6e9b-4ea3-94bd-3352d1f705d0",
   "metadata": {},
   "outputs": [
    {
     "name": "stdout",
     "output_type": "stream",
     "text": [
      "Requirement already satisfied: albumentations in c:\\users\\kanha\\appdata\\local\\programs\\python\\python312\\lib\\site-packages (1.4.21)\n",
      "Requirement already satisfied: numpy>=1.24.4 in c:\\users\\kanha\\appdata\\local\\programs\\python\\python312\\lib\\site-packages (from albumentations) (1.26.4)\n",
      "Requirement already satisfied: scipy>=1.10.0 in c:\\users\\kanha\\appdata\\local\\programs\\python\\python312\\lib\\site-packages (from albumentations) (1.14.1)\n",
      "Requirement already satisfied: PyYAML in c:\\users\\kanha\\appdata\\local\\programs\\python\\python312\\lib\\site-packages (from albumentations) (6.0.2)\n",
      "Requirement already satisfied: pydantic>=2.7.0 in c:\\users\\kanha\\appdata\\local\\programs\\python\\python312\\lib\\site-packages (from albumentations) (2.9.2)\n",
      "Requirement already satisfied: albucore==0.0.20 in c:\\users\\kanha\\appdata\\local\\programs\\python\\python312\\lib\\site-packages (from albumentations) (0.0.20)\n",
      "Requirement already satisfied: eval-type-backport in c:\\users\\kanha\\appdata\\local\\programs\\python\\python312\\lib\\site-packages (from albumentations) (0.2.0)\n",
      "Requirement already satisfied: opencv-python-headless>=4.9.0.80 in c:\\users\\kanha\\appdata\\local\\programs\\python\\python312\\lib\\site-packages (from albumentations) (4.10.0.84)\n",
      "Requirement already satisfied: stringzilla>=3.10.4 in c:\\users\\kanha\\appdata\\local\\programs\\python\\python312\\lib\\site-packages (from albucore==0.0.20->albumentations) (3.10.7)\n",
      "Requirement already satisfied: simsimd>=5.9.2 in c:\\users\\kanha\\appdata\\local\\programs\\python\\python312\\lib\\site-packages (from albucore==0.0.20->albumentations) (6.0.1)\n",
      "Requirement already satisfied: annotated-types>=0.6.0 in c:\\users\\kanha\\appdata\\local\\programs\\python\\python312\\lib\\site-packages (from pydantic>=2.7.0->albumentations) (0.7.0)\n",
      "Requirement already satisfied: pydantic-core==2.23.4 in c:\\users\\kanha\\appdata\\local\\programs\\python\\python312\\lib\\site-packages (from pydantic>=2.7.0->albumentations) (2.23.4)\n",
      "Requirement already satisfied: typing-extensions>=4.6.1 in c:\\users\\kanha\\appdata\\local\\programs\\python\\python312\\lib\\site-packages (from pydantic>=2.7.0->albumentations) (4.12.2)\n",
      "Note: you may need to restart the kernel to use updated packages.\n"
     ]
    }
   ],
   "source": [
    "pip install albumentations"
   ]
  },
  {
   "cell_type": "code",
   "execution_count": 6,
   "id": "ceb630de-7bca-4554-9eee-25649af9ce1f",
   "metadata": {},
   "outputs": [
    {
     "name": "stdout",
     "output_type": "stream",
     "text": [
      "Requirement already satisfied: Pandas in c:\\users\\kanha\\appdata\\local\\programs\\python\\python312\\lib\\site-packages (2.2.3)\n",
      "Requirement already satisfied: numpy>=1.26.0 in c:\\users\\kanha\\appdata\\local\\programs\\python\\python312\\lib\\site-packages (from Pandas) (1.26.4)\n",
      "Requirement already satisfied: python-dateutil>=2.8.2 in c:\\users\\kanha\\appdata\\local\\programs\\python\\python312\\lib\\site-packages (from Pandas) (2.9.0.post0)\n",
      "Requirement already satisfied: pytz>=2020.1 in c:\\users\\kanha\\appdata\\local\\programs\\python\\python312\\lib\\site-packages (from Pandas) (2024.2)\n",
      "Requirement already satisfied: tzdata>=2022.7 in c:\\users\\kanha\\appdata\\local\\programs\\python\\python312\\lib\\site-packages (from Pandas) (2024.2)\n",
      "Requirement already satisfied: six>=1.5 in c:\\users\\kanha\\appdata\\local\\programs\\python\\python312\\lib\\site-packages (from python-dateutil>=2.8.2->Pandas) (1.16.0)\n",
      "Note: you may need to restart the kernel to use updated packages.\n"
     ]
    }
   ],
   "source": [
    "pip install Pandas"
   ]
  },
  {
   "cell_type": "code",
   "execution_count": 7,
   "id": "515fe96b-380d-4d5a-b6eb-a6ce6d615d9f",
   "metadata": {},
   "outputs": [
    {
     "name": "stdout",
     "output_type": "stream",
     "text": [
      "Requirement already satisfied: Scikit-learn in c:\\users\\kanha\\appdata\\local\\programs\\python\\python312\\lib\\site-packages (1.5.2)Note: you may need to restart the kernel to use updated packages.\n",
      "\n",
      "Requirement already satisfied: numpy>=1.19.5 in c:\\users\\kanha\\appdata\\local\\programs\\python\\python312\\lib\\site-packages (from Scikit-learn) (1.26.4)\n",
      "Requirement already satisfied: scipy>=1.6.0 in c:\\users\\kanha\\appdata\\local\\programs\\python\\python312\\lib\\site-packages (from Scikit-learn) (1.14.1)\n",
      "Requirement already satisfied: joblib>=1.2.0 in c:\\users\\kanha\\appdata\\local\\programs\\python\\python312\\lib\\site-packages (from Scikit-learn) (1.4.2)\n",
      "Requirement already satisfied: threadpoolctl>=3.1.0 in c:\\users\\kanha\\appdata\\local\\programs\\python\\python312\\lib\\site-packages (from Scikit-learn) (3.5.0)\n"
     ]
    }
   ],
   "source": [
    "pip install Scikit-learn"
   ]
  },
  {
   "cell_type": "markdown",
   "id": "a7b2ebc8-624d-4ec3-9bae-b27eab3e1ba9",
   "metadata": {},
   "source": [
    "## Example"
   ]
  },
  {
   "cell_type": "code",
   "execution_count": 8,
   "id": "bd0506ce-2325-41c5-9cd7-fcb5cf673758",
   "metadata": {},
   "outputs": [],
   "source": [
    "from sklearn import preprocessing"
   ]
  },
  {
   "cell_type": "code",
   "execution_count": 9,
   "id": "5d37f462-70e6-41fb-89fb-b5a1e9a53cb6",
   "metadata": {},
   "outputs": [],
   "source": [
    "import numpy as np"
   ]
  },
  {
   "cell_type": "code",
   "execution_count": 10,
   "id": "95d0a666-fa69-475b-8b50-fde2056033f5",
   "metadata": {},
   "outputs": [],
   "source": [
    "import numpy as np\n",
    "import pandas as pd\n",
    "from sklearn import preprocessing"
   ]
  },
  {
   "cell_type": "code",
   "execution_count": 11,
   "id": "70f6602f-c412-42b9-ab5f-26fd8631ffec",
   "metadata": {},
   "outputs": [],
   "source": [
    "# create the DataFrame\n",
    "california_housing = pd.read_csv(\"housing.csv\")"
   ]
  },
  {
   "cell_type": "code",
   "execution_count": 12,
   "id": "aa91145e-c8c9-4f37-a2d6-e7595f7a1d6e",
   "metadata": {},
   "outputs": [
    {
     "data": {
      "text/html": [
       "<div>\n",
       "<style scoped>\n",
       "    .dataframe tbody tr th:only-of-type {\n",
       "        vertical-align: middle;\n",
       "    }\n",
       "\n",
       "    .dataframe tbody tr th {\n",
       "        vertical-align: top;\n",
       "    }\n",
       "\n",
       "    .dataframe thead th {\n",
       "        text-align: right;\n",
       "    }\n",
       "</style>\n",
       "<table border=\"1\" class=\"dataframe\">\n",
       "  <thead>\n",
       "    <tr style=\"text-align: right;\">\n",
       "      <th></th>\n",
       "      <th>housing_median_age</th>\n",
       "      <th>total_rooms</th>\n",
       "      <th>population</th>\n",
       "      <th>households</th>\n",
       "      <th>median_house_value</th>\n",
       "    </tr>\n",
       "  </thead>\n",
       "  <tbody>\n",
       "    <tr>\n",
       "      <th>0</th>\n",
       "      <td>41</td>\n",
       "      <td>880</td>\n",
       "      <td>322</td>\n",
       "      <td>126</td>\n",
       "      <td>452600</td>\n",
       "    </tr>\n",
       "    <tr>\n",
       "      <th>1</th>\n",
       "      <td>21</td>\n",
       "      <td>7099</td>\n",
       "      <td>2401</td>\n",
       "      <td>1138</td>\n",
       "      <td>358500</td>\n",
       "    </tr>\n",
       "    <tr>\n",
       "      <th>2</th>\n",
       "      <td>52</td>\n",
       "      <td>1467</td>\n",
       "      <td>496</td>\n",
       "      <td>177</td>\n",
       "      <td>352100</td>\n",
       "    </tr>\n",
       "    <tr>\n",
       "      <th>3</th>\n",
       "      <td>52</td>\n",
       "      <td>1274</td>\n",
       "      <td>558</td>\n",
       "      <td>219</td>\n",
       "      <td>341300</td>\n",
       "    </tr>\n",
       "    <tr>\n",
       "      <th>4</th>\n",
       "      <td>52</td>\n",
       "      <td>1627</td>\n",
       "      <td>565</td>\n",
       "      <td>259</td>\n",
       "      <td>342200</td>\n",
       "    </tr>\n",
       "  </tbody>\n",
       "</table>\n",
       "</div>"
      ],
      "text/plain": [
       "   housing_median_age  total_rooms  population  households  median_house_value\n",
       "0                  41          880         322         126              452600\n",
       "1                  21         7099        2401        1138              358500\n",
       "2                  52         1467         496         177              352100\n",
       "3                  52         1274         558         219              341300\n",
       "4                  52         1627         565         259              342200"
      ]
     },
     "execution_count": 12,
     "metadata": {},
     "output_type": "execute_result"
    }
   ],
   "source": [
    "# print the dataset description\n",
    "#print(california_housing.DESCR)\n",
    "california_housing.head()"
   ]
  },
  {
   "cell_type": "code",
   "execution_count": 13,
   "id": "3994ebe1-3b37-44de-b639-1d947350e327",
   "metadata": {},
   "outputs": [
    {
     "name": "stdout",
     "output_type": "stream",
     "text": [
      "HouseAge array:  [41 21 52 ... 17 18 16]\n"
     ]
    }
   ],
   "source": [
    "x_array = np.array(california_housing['housing_median_age'])\n",
    "print(\"HouseAge array: \",x_array)"
   ]
  },
  {
   "cell_type": "code",
   "execution_count": 14,
   "id": "498c2471-6658-4b29-94b9-801a2b4ce35f",
   "metadata": {},
   "outputs": [
    {
     "name": "stdout",
     "output_type": "stream",
     "text": [
      "Normalized HouseAge array:  [[0.00912272 0.00467261 0.01157028 ... 0.00378259 0.0040051  0.00356009]]\n"
     ]
    }
   ],
   "source": [
    "normalized_arr = preprocessing.normalize([x_array])\n",
    "print(\"Normalized HouseAge array: \",normalized_arr)"
   ]
  },
  {
   "cell_type": "code",
   "execution_count": 15,
   "id": "a75ab38e-b0f1-4c98-a4b2-e0b60fa3a05b",
   "metadata": {},
   "outputs": [
    {
     "name": "stdout",
     "output_type": "stream",
     "text": [
      "       housing_median_age  total_rooms  population  households  \\\n",
      "0                0.000091     0.001944    0.000711    0.000278   \n",
      "1                0.000059     0.019798    0.006696    0.003174   \n",
      "2                0.000148     0.004166    0.001409    0.000503   \n",
      "3                0.000152     0.003733    0.001635    0.000642   \n",
      "4                0.000152     0.004754    0.001651    0.000757   \n",
      "...                   ...          ...         ...         ...   \n",
      "20635            0.000320     0.021313    0.010816    0.004224   \n",
      "20636            0.000233     0.009040    0.004617    0.001479   \n",
      "20637            0.000184     0.024411    0.010906    0.004689   \n",
      "20638            0.000212     0.021954    0.008746    0.004119   \n",
      "20639            0.000179     0.031133    0.015505    0.005925   \n",
      "\n",
      "       median_house_value  \n",
      "0                0.999998  \n",
      "1                0.999777  \n",
      "2                0.999990  \n",
      "3                0.999991  \n",
      "4                0.999987  \n",
      "...                   ...  \n",
      "20635            0.999705  \n",
      "20636            0.999947  \n",
      "20637            0.999631  \n",
      "20638            0.999712  \n",
      "20639            0.999377  \n",
      "\n",
      "[20640 rows x 5 columns]\n"
     ]
    }
   ],
   "source": [
    "d = preprocessing.normalize(california_housing)\n",
    "scaled_df = pd.DataFrame(d, columns=california_housing.columns)\n",
    "print(scaled_df)"
   ]
  },
  {
   "cell_type": "code",
   "execution_count": 16,
   "id": "61bcf930-e928-4e6e-ae48-e2685d40a9bd",
   "metadata": {},
   "outputs": [
    {
     "data": {
      "text/html": [
       "<div>\n",
       "<style scoped>\n",
       "    .dataframe tbody tr th:only-of-type {\n",
       "        vertical-align: middle;\n",
       "    }\n",
       "\n",
       "    .dataframe tbody tr th {\n",
       "        vertical-align: top;\n",
       "    }\n",
       "\n",
       "    .dataframe thead th {\n",
       "        text-align: right;\n",
       "    }\n",
       "</style>\n",
       "<table border=\"1\" class=\"dataframe\">\n",
       "  <thead>\n",
       "    <tr style=\"text-align: right;\">\n",
       "      <th></th>\n",
       "      <th>housing_median_age</th>\n",
       "      <th>total_rooms</th>\n",
       "      <th>population</th>\n",
       "      <th>households</th>\n",
       "    </tr>\n",
       "  </thead>\n",
       "  <tbody>\n",
       "    <tr>\n",
       "      <th>0</th>\n",
       "      <td>41</td>\n",
       "      <td>880</td>\n",
       "      <td>322</td>\n",
       "      <td>126</td>\n",
       "    </tr>\n",
       "    <tr>\n",
       "      <th>1</th>\n",
       "      <td>21</td>\n",
       "      <td>7099</td>\n",
       "      <td>2401</td>\n",
       "      <td>1138</td>\n",
       "    </tr>\n",
       "    <tr>\n",
       "      <th>2</th>\n",
       "      <td>52</td>\n",
       "      <td>1467</td>\n",
       "      <td>496</td>\n",
       "      <td>177</td>\n",
       "    </tr>\n",
       "    <tr>\n",
       "      <th>3</th>\n",
       "      <td>52</td>\n",
       "      <td>1274</td>\n",
       "      <td>558</td>\n",
       "      <td>219</td>\n",
       "    </tr>\n",
       "    <tr>\n",
       "      <th>4</th>\n",
       "      <td>52</td>\n",
       "      <td>1627</td>\n",
       "      <td>565</td>\n",
       "      <td>259</td>\n",
       "    </tr>\n",
       "  </tbody>\n",
       "</table>\n",
       "</div>"
      ],
      "text/plain": [
       "   housing_median_age  total_rooms  population  households\n",
       "0                  41          880         322         126\n",
       "1                  21         7099        2401        1138\n",
       "2                  52         1467         496         177\n",
       "3                  52         1274         558         219\n",
       "4                  52         1627         565         259"
      ]
     },
     "execution_count": 16,
     "metadata": {},
     "output_type": "execute_result"
    }
   ],
   "source": [
    "data = california_housing.iloc[:,:-1]\n",
    "data.head()"
   ]
  },
  {
   "cell_type": "code",
   "execution_count": 17,
   "id": "fdaae7c6-ed79-48d0-92f4-2acd4dc728a3",
   "metadata": {},
   "outputs": [
    {
     "name": "stdout",
     "output_type": "stream",
     "text": [
      "       housing_median_age  total_rooms  population  households\n",
      "0                0.784314     0.022331    0.008941    0.020556\n",
      "1                0.392157     0.180503    0.067210    0.186976\n",
      "2                1.000000     0.037260    0.013818    0.028943\n",
      "3                1.000000     0.032352    0.015555    0.035849\n",
      "4                1.000000     0.041330    0.015752    0.042427\n",
      "...                   ...          ...         ...         ...\n",
      "20635            0.470588     0.042296    0.023599    0.054103\n",
      "20636            0.333333     0.017676    0.009894    0.018582\n",
      "20637            0.313725     0.057277    0.028140    0.071041\n",
      "20638            0.333333     0.047256    0.020684    0.057227\n",
      "20639            0.294118     0.070782    0.038790    0.086992\n",
      "\n",
      "[20640 rows x 4 columns]\n"
     ]
    }
   ],
   "source": [
    "scaler = preprocessing.MinMaxScaler()\n",
    "d = scaler.fit_transform(data)\n",
    "scaled_df = pd.DataFrame(d, columns=data.columns)\n",
    "print(scaled_df)"
   ]
  },
  {
   "cell_type": "code",
   "execution_count": 18,
   "id": "fdf79fe6-bcaf-4bf5-9b7b-1d8746cf542c",
   "metadata": {},
   "outputs": [
    {
     "name": "stdout",
     "output_type": "stream",
     "text": [
      "<class 'pandas.core.frame.DataFrame'>\n",
      "RangeIndex: 20640 entries, 0 to 20639\n",
      "Data columns (total 4 columns):\n",
      " #   Column              Non-Null Count  Dtype\n",
      "---  ------              --------------  -----\n",
      " 0   housing_median_age  20640 non-null  int64\n",
      " 1   total_rooms         20640 non-null  int64\n",
      " 2   population          20640 non-null  int64\n",
      " 3   households          20640 non-null  int64\n",
      "dtypes: int64(4)\n",
      "memory usage: 645.1 KB\n"
     ]
    }
   ],
   "source": [
    "data.info()"
   ]
  },
  {
   "cell_type": "code",
   "execution_count": 19,
   "id": "4a4a5785-9ec0-420a-8560-a361d2d0e436",
   "metadata": {},
   "outputs": [
    {
     "name": "stdout",
     "output_type": "stream",
     "text": [
      "<class 'pandas.core.frame.DataFrame'>\n",
      "RangeIndex: 20640 entries, 0 to 20639\n",
      "Data columns (total 5 columns):\n",
      " #   Column              Non-Null Count  Dtype\n",
      "---  ------              --------------  -----\n",
      " 0   housing_median_age  20640 non-null  int64\n",
      " 1   total_rooms         20640 non-null  int64\n",
      " 2   population          20640 non-null  int64\n",
      " 3   households          20640 non-null  int64\n",
      " 4   median_house_value  20640 non-null  int64\n",
      "dtypes: int64(5)\n",
      "memory usage: 806.4 KB\n"
     ]
    }
   ],
   "source": [
    "california_housing.info()"
   ]
  },
  {
   "cell_type": "code",
   "execution_count": 20,
   "id": "c7bceda3-29d6-4d15-979c-8163d33eb901",
   "metadata": {},
   "outputs": [
    {
     "data": {
      "text/html": [
       "<div>\n",
       "<style scoped>\n",
       "    .dataframe tbody tr th:only-of-type {\n",
       "        vertical-align: middle;\n",
       "    }\n",
       "\n",
       "    .dataframe tbody tr th {\n",
       "        vertical-align: top;\n",
       "    }\n",
       "\n",
       "    .dataframe thead th {\n",
       "        text-align: right;\n",
       "    }\n",
       "</style>\n",
       "<table border=\"1\" class=\"dataframe\">\n",
       "  <thead>\n",
       "    <tr style=\"text-align: right;\">\n",
       "      <th></th>\n",
       "      <th>housing_median_age</th>\n",
       "      <th>total_rooms</th>\n",
       "      <th>population</th>\n",
       "      <th>households</th>\n",
       "      <th>median_house_value</th>\n",
       "    </tr>\n",
       "  </thead>\n",
       "  <tbody>\n",
       "    <tr>\n",
       "      <th>count</th>\n",
       "      <td>20640.000000</td>\n",
       "      <td>20640.000000</td>\n",
       "      <td>20640.000000</td>\n",
       "      <td>20640.000000</td>\n",
       "      <td>20640.000000</td>\n",
       "    </tr>\n",
       "    <tr>\n",
       "      <th>mean</th>\n",
       "      <td>28.639486</td>\n",
       "      <td>2635.763081</td>\n",
       "      <td>1425.476744</td>\n",
       "      <td>499.539680</td>\n",
       "      <td>206855.816909</td>\n",
       "    </tr>\n",
       "    <tr>\n",
       "      <th>std</th>\n",
       "      <td>12.585558</td>\n",
       "      <td>2181.615252</td>\n",
       "      <td>1132.462122</td>\n",
       "      <td>382.329753</td>\n",
       "      <td>115395.615874</td>\n",
       "    </tr>\n",
       "    <tr>\n",
       "      <th>min</th>\n",
       "      <td>1.000000</td>\n",
       "      <td>2.000000</td>\n",
       "      <td>3.000000</td>\n",
       "      <td>1.000000</td>\n",
       "      <td>14999.000000</td>\n",
       "    </tr>\n",
       "    <tr>\n",
       "      <th>25%</th>\n",
       "      <td>18.000000</td>\n",
       "      <td>1447.750000</td>\n",
       "      <td>787.000000</td>\n",
       "      <td>280.000000</td>\n",
       "      <td>119600.000000</td>\n",
       "    </tr>\n",
       "    <tr>\n",
       "      <th>50%</th>\n",
       "      <td>29.000000</td>\n",
       "      <td>2127.000000</td>\n",
       "      <td>1166.000000</td>\n",
       "      <td>409.000000</td>\n",
       "      <td>179700.000000</td>\n",
       "    </tr>\n",
       "    <tr>\n",
       "      <th>75%</th>\n",
       "      <td>37.000000</td>\n",
       "      <td>3148.000000</td>\n",
       "      <td>1725.000000</td>\n",
       "      <td>605.000000</td>\n",
       "      <td>264725.000000</td>\n",
       "    </tr>\n",
       "    <tr>\n",
       "      <th>max</th>\n",
       "      <td>52.000000</td>\n",
       "      <td>39320.000000</td>\n",
       "      <td>35682.000000</td>\n",
       "      <td>6082.000000</td>\n",
       "      <td>500001.000000</td>\n",
       "    </tr>\n",
       "  </tbody>\n",
       "</table>\n",
       "</div>"
      ],
      "text/plain": [
       "       housing_median_age   total_rooms    population    households  \\\n",
       "count        20640.000000  20640.000000  20640.000000  20640.000000   \n",
       "mean            28.639486   2635.763081   1425.476744    499.539680   \n",
       "std             12.585558   2181.615252   1132.462122    382.329753   \n",
       "min              1.000000      2.000000      3.000000      1.000000   \n",
       "25%             18.000000   1447.750000    787.000000    280.000000   \n",
       "50%             29.000000   2127.000000   1166.000000    409.000000   \n",
       "75%             37.000000   3148.000000   1725.000000    605.000000   \n",
       "max             52.000000  39320.000000  35682.000000   6082.000000   \n",
       "\n",
       "       median_house_value  \n",
       "count        20640.000000  \n",
       "mean        206855.816909  \n",
       "std         115395.615874  \n",
       "min          14999.000000  \n",
       "25%         119600.000000  \n",
       "50%         179700.000000  \n",
       "75%         264725.000000  \n",
       "max         500001.000000  "
      ]
     },
     "execution_count": 20,
     "metadata": {},
     "output_type": "execute_result"
    }
   ],
   "source": [
    "california_housing.describe()"
   ]
  },
  {
   "cell_type": "code",
   "execution_count": 21,
   "id": "9d513e00-59cc-47fc-8a0a-1f6ef2b421cb",
   "metadata": {},
   "outputs": [
    {
     "name": "stdout",
     "output_type": "stream",
     "text": [
      "housing_median_age    0\n",
      "total_rooms           0\n",
      "population            0\n",
      "households            0\n",
      "median_house_value    0\n",
      "dtype: int64\n"
     ]
    }
   ],
   "source": [
    "missing_values = california_housing.isna().sum()\n",
    "print(missing_values)"
   ]
  }
 ],
 "metadata": {
  "kernelspec": {
   "display_name": "Python 3",
   "language": "python",
   "name": "python3"
  },
  "language_info": {
   "codemirror_mode": {
    "name": "ipython",
    "version": 3
   },
   "file_extension": ".py",
   "mimetype": "text/x-python",
   "name": "python",
   "nbconvert_exporter": "python",
   "pygments_lexer": "ipython3",
   "version": "3.12.7"
  }
 },
 "nbformat": 4,
 "nbformat_minor": 5
}
